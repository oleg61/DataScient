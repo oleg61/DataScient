{
  "nbformat": 4,
  "nbformat_minor": 0,
  "metadata": {
    "colab": {
      "provenance": [],
      "include_colab_link": true
    },
    "kernelspec": {
      "name": "python3",
      "display_name": "Python 3"
    },
    "language_info": {
      "name": "python"
    }
  },
  "cells": [
    {
      "cell_type": "markdown",
      "metadata": {
        "id": "view-in-github",
        "colab_type": "text"
      },
      "source": [
        "<a href=\"https://colab.research.google.com/github/oleg61/DataScient/blob/main/%D0%94%D0%97_1_%D0%92%D0%BE%D1%80%D0%BE%D0%BF%D0%B0%D0%B5%D0%B2_%D0%9E_%D0%A1.ipynb\" target=\"_parent\"><img src=\"https://colab.research.google.com/assets/colab-badge.svg\" alt=\"Open In Colab\"/></a>"
      ]
    },
    {
      "cell_type": "markdown",
      "source": [
        "# Задание 1\n",
        "Даны 2 переменных, в которых хранятся строки произвольной длины: phrase_1 и phrase_2.\n",
        "Напишите код, который проверяет какая из этих строк длиннее."
      ],
      "metadata": {
        "id": "o9fC4gYsRJfc"
      }
    },
    {
      "cell_type": "code",
      "execution_count": null,
      "metadata": {
        "id": "vjRpQSy8vgTi"
      },
      "outputs": [],
      "source": [
        "phrase_1 = 'Насколько проще было бы писать программы, если бы не заказчики'\n",
        "phrase_2 = '640Кб должно хватить для любых задач. Билл Гейтс (по легенде)'\n",
        "a = len(phrase_1)\n",
        "b = len(phrase_2)"
      ]
    },
    {
      "cell_type": "code",
      "source": [
        "if a > b:\n",
        "  print('Фраза 1 длиннее фразы 2')\n",
        "else:\n",
        "  print('Фраза 2 длиннее фразы 1')"
      ],
      "metadata": {
        "colab": {
          "base_uri": "https://localhost:8080/"
        },
        "id": "jyjokpvQN9O0",
        "outputId": "ca7d234c-d2bb-4102-e40a-681ff8c5a2ef"
      },
      "execution_count": null,
      "outputs": [
        {
          "output_type": "stream",
          "name": "stdout",
          "text": [
            "Фраза 1 длиннее фразы 2\n"
          ]
        }
      ]
    },
    {
      "cell_type": "markdown",
      "source": [
        "2."
      ],
      "metadata": {
        "id": "l8O4zy7ARkLv"
      }
    },
    {
      "cell_type": "code",
      "source": [
        "phrase_1 = '640Кб должно хватить для любых задач. Билл Гейтс (по легенде)'\n",
        "phrase_2 = 'Насколько проще было бы писать программы, если бы не заказчики'"
      ],
      "metadata": {
        "id": "Z7LmJOvXR-8E"
      },
      "execution_count": null,
      "outputs": []
    },
    {
      "cell_type": "code",
      "source": [
        "a = len(phrase_1)\n",
        "b = len(phrase_2)"
      ],
      "metadata": {
        "id": "BPrrROWOSAJE"
      },
      "execution_count": null,
      "outputs": []
    },
    {
      "cell_type": "code",
      "source": [
        "if a > b:\n",
        "  print('Фраза 1 длинее фразы 2')\n",
        "else:\n",
        "  print('Фраза 2 длиннее фразы 1')"
      ],
      "metadata": {
        "colab": {
          "base_uri": "https://localhost:8080/"
        },
        "id": "R-1KW3apSapb",
        "outputId": "214f5db4-739f-40b5-c8ef-466cfe35a7af"
      },
      "execution_count": null,
      "outputs": [
        {
          "output_type": "stream",
          "name": "stdout",
          "text": [
            "Фраза 2 длиннее фразы 1\n"
          ]
        }
      ]
    },
    {
      "cell_type": "markdown",
      "source": [
        "3."
      ],
      "metadata": {
        "id": "-LsYZzLiS6kk"
      }
    },
    {
      "cell_type": "code",
      "source": [
        "phrase_1 = 'Насколько проще было бы писать программы, если бы не заказчики'\n",
        "phrase_2 = 'Насколько проще было бы писать программы, если бы не заказчики'"
      ],
      "metadata": {
        "id": "uVNuvM8jS8mn"
      },
      "execution_count": null,
      "outputs": []
    },
    {
      "cell_type": "code",
      "source": [
        "a = len(phrase_1)\n",
        "b = len(phrase_2)"
      ],
      "metadata": {
        "id": "y2Ci3_upTAJ-"
      },
      "execution_count": null,
      "outputs": []
    },
    {
      "cell_type": "code",
      "source": [
        "if a > b:\n",
        "  print('Фраза 1 длиннее фразы 2')\n",
        "elif a < b:\n",
        "  peint('Фраза 2 длиннее фразы 1')\n",
        "else:\n",
        "  print('Фразы равны')"
      ],
      "metadata": {
        "colab": {
          "base_uri": "https://localhost:8080/"
        },
        "id": "uqyeY5r7TJaN",
        "outputId": "26777d44-639b-4fbc-b4a3-68fcb39e5291"
      },
      "execution_count": null,
      "outputs": [
        {
          "output_type": "stream",
          "name": "stdout",
          "text": [
            "Фразы равны\n"
          ]
        }
      ]
    },
    {
      "cell_type": "markdown",
      "source": [
        "### Задание 2\n",
        "Дана переменная, в которой хранится число (год). Необходимо написать программу, которая выведет, является ли данный год високосным или обычным."
      ],
      "metadata": {
        "id": "2SJo2so0T2uj"
      }
    },
    {
      "cell_type": "markdown",
      "source": [
        "1."
      ],
      "metadata": {
        "id": "xbNKShIqWhlR"
      }
    },
    {
      "cell_type": "code",
      "source": [
        "year = int(input('Введите год, что бы узнать високосный ли он: '))\n",
        "if (year % 4 == 0) and (year % 100 != 0) or (year % 400 == 0):\n",
        "    print('Високосный год')\n",
        "else:\n",
        "    print('Обычный год')"
      ],
      "metadata": {
        "colab": {
          "base_uri": "https://localhost:8080/"
        },
        "id": "6Wk5pZH6UEDp",
        "outputId": "7f400a07-694f-40c3-dde0-d726762eb70a"
      },
      "execution_count": null,
      "outputs": [
        {
          "output_type": "stream",
          "name": "stdout",
          "text": [
            "Введите год, что бы узнать високосный ли он: 2024\n",
            "Високосный год\n"
          ]
        }
      ]
    },
    {
      "cell_type": "markdown",
      "source": [
        "2."
      ],
      "metadata": {
        "id": "etEhHrFHYIh_"
      }
    },
    {
      "cell_type": "code",
      "source": [
        "uear = 2019\n",
        "print(year, 'Високосный год') if year % 4 == 0 else print(year, 'Обычный год')"
      ],
      "metadata": {
        "colab": {
          "base_uri": "https://localhost:8080/"
        },
        "id": "BEF0c5oPYJ6b",
        "outputId": "65ad5103-e36e-4fb0-9ce9-4d350c4a37f5"
      },
      "execution_count": null,
      "outputs": [
        {
          "output_type": "stream",
          "name": "stdout",
          "text": [
            "2020 Високосный год\n"
          ]
        }
      ]
    },
    {
      "cell_type": "markdown",
      "source": [
        "# Задание 3\n",
        "Необходимо написать программу, которая будет запрашивать у пользователя месяц и дату рождения и выводить соответствующий знак зодиака."
      ],
      "metadata": {
        "id": "Ivg5qM24YudI"
      }
    },
    {
      "cell_type": "code",
      "source": [
        "day = int(input('Введите день своего рождения: '))\n",
        "month = input('Введите месяц свого рождения (Август, например): ')\n",
        "\n",
        "if month == 'Декабрь':\n",
        "  astro = 'стрелец' if (day < 22) else 'Козерог'\n",
        "elif month == 'Январь':\n",
        "  astro = 'Козерог' if (day < 20) else 'Водолей'\n",
        "elif month == 'Февраль':\n",
        "  astro = 'Водолей' if (day < 19) else 'Рыбы'\n",
        "elif month == 'Март':\n",
        "  astro = 'Рыбы' if (day < 20) else 'Овен'\n",
        "elif month == 'Апрель':\n",
        "  astro = 'Овен' if (day < 20) else 'Телец'\n",
        "elif month == 'Май':\n",
        "  astro = 'Телец' if (day < 20) else 'Близнецы'\n",
        "elif month == 'Июнь':\n",
        "  astro = 'Близнецы' if (day < 21) else 'Рак'\n",
        "elif month == 'Июль':\n",
        "  astro = 'Рак' if (day < 22) else 'Лев'\n",
        "elif month == 'Август':\n",
        "  astro = 'Лев' if (day < 23) else 'Дева'\n",
        "elif month == 'Сентябрь':\n",
        "  astro = 'Дева' if (day < 23) else 'Весы'\n",
        "elif month == 'Октябрь':\n",
        "  astro = 'Весы' if (day < 23) else 'Скорпион'\n",
        "elif month == 'Ноябрь':\n",
        "  astro = 'Скорпион' if (day < 22) else 'Стрелец'\n",
        "\n",
        "print('Ваш знак зодиака: ', astro)"
      ],
      "metadata": {
        "id": "qBuq2oblYw0i",
        "colab": {
          "base_uri": "https://localhost:8080/"
        },
        "outputId": "0c0646ac-e484-4c6b-e76c-35a88379b336"
      },
      "execution_count": null,
      "outputs": [
        {
          "output_type": "stream",
          "name": "stdout",
          "text": [
            "Введите день своего рождения: 10\n",
            "Введите месяц свого рождения (Август, например): Февраль\n",
            "Ваш знак зодиака:  Водолей\n"
          ]
        }
      ]
    },
    {
      "cell_type": "code",
      "source": [
        "signs = {\"март\": (21, \"Рыбы\", \"Овен\"), \"апрель\": (21, \"Овен\", \"Телец\"), \"май\": (22, \"Телец\", \"Близнецы\"),\n",
        "        \"июнь\": (22, \"Близнецы\", \"Рак\"), \"июль\": (23, \"Рак\", \"Лев\"), \"август\": (24, \"Лев\", \"Дева\"),\n",
        "        \"сентябрь\": (24, \"Дева\", \"Весы\"), \"октябрь\": (24, \"Весы\", \"Скорпион\"),\n",
        "        \"ноябрь\": (23, \"Скорпион\", \"Стрелец\"), \"декабрь\": (23, \"Стрелец\", \"Козерог\"),\n",
        "        \"январь\": (21, \"Козерог\", \"Водолей\"), \"февраль\": (20, \"Водолей\",\"Рыбы\")}\n",
        "\n",
        "\n",
        "day, month = int(input(\"Введите день \")), input(\"Введите месяц \")\n",
        "print(signs[month][2]) if (day >= signs[month][0]) else print(signs[month][1])"
      ],
      "metadata": {
        "colab": {
          "base_uri": "https://localhost:8080/"
        },
        "id": "Zn8WzWbS7fWa",
        "outputId": "b6f445ac-f415-4009-8eea-0976fecfc42f"
      },
      "execution_count": null,
      "outputs": [
        {
          "output_type": "stream",
          "name": "stdout",
          "text": [
            "Введите день10\n",
            "Введите месяцфевраль\n",
            "Водолей\n"
          ]
        }
      ]
    },
    {
      "cell_type": "markdown",
      "source": [
        "# Задание 4\n",
        "Вам нужно написать программу для подбора упаковок по размерам товара. Размеры (ширина, длина, высота) хранятся в переменных (в сантиметрах):\n",
        "\n",
        "Используйте следующие правила:\n",
        "\n",
        "если каждое из трех измерений менее или равно 15 сантиметрам, то выведите на экран \"Коробка №1\";\n",
        "если хотя бы одно из измерений больше 2 метров, то выводите \"Упаковка для лыж\";\n",
        "если хотя бы одно из измерений больше 15 сантиметров, но менее 50 сантиметров, то выводите \"Коробка №2\";\n",
        "во всех остальных случаях выводите \"Коробка №3\"."
      ],
      "metadata": {
        "id": "BhnYVgsPt-Oo"
      }
    },
    {
      "cell_type": "markdown",
      "source": [
        "1."
      ],
      "metadata": {
        "id": "TX59w_l6zUAV"
      }
    },
    {
      "cell_type": "code",
      "source": [
        "width = 15\n",
        "length = 55\n",
        "height = 15\n",
        "\n",
        "if width < 15 and length < 15 and height < 15:\n",
        "  print('Коробка №1')\n",
        "elif (width > 15 or length > 15 or height > 15) and (width < 50 and length < 50 and heigth < 50):\n",
        "  print('Коробка №2')\n",
        "elif width > 200 or length > 200 or height > 200:\n",
        "  print('Упаковка для лыж')\n",
        "else:\n",
        "  print('Коробка №3')"
      ],
      "metadata": {
        "id": "hJ467tZeuB6M",
        "colab": {
          "base_uri": "https://localhost:8080/"
        },
        "outputId": "15fbc169-ed35-45ac-d446-271f69941df0"
      },
      "execution_count": null,
      "outputs": [
        {
          "output_type": "stream",
          "name": "stdout",
          "text": [
            "Коробка №3\n"
          ]
        }
      ]
    },
    {
      "cell_type": "markdown",
      "source": [
        "2."
      ],
      "metadata": {
        "id": "wBa7g3OF0ZWc"
      }
    },
    {
      "cell_type": "code",
      "source": [
        "width = 45\n",
        "length = 205\n",
        "height = 45\n",
        "\n",
        "if width < 15 and length < 15 and height < 15:\n",
        "  print('Коробка №1')\n",
        "elif (width > 15 or length > 15 or height > 15) and (width < 50 and length < 50 and heigth < 50):\n",
        "  print('Коробка №2')\n",
        "elif width > 200 or length > 200 or height > 200:\n",
        "  print('Упаковка для лыж')\n",
        "else:\n",
        "  print('Коробка №3')"
      ],
      "metadata": {
        "colab": {
          "base_uri": "https://localhost:8080/"
        },
        "id": "18v_M4Jb0azz",
        "outputId": "744f30ed-e39c-486b-b305-d4ea16fa6ec1"
      },
      "execution_count": null,
      "outputs": [
        {
          "output_type": "stream",
          "name": "stdout",
          "text": [
            "Упаковка для лыж\n"
          ]
        }
      ]
    },
    {
      "cell_type": "markdown",
      "source": [
        "# Задание 5 (необязательное)\n",
        "Дана переменная, в которой хранится шестизначное число (номер проездного билета). Напишите программу, которая будет определять, является ли данный билет \"счастливым\". Билет считается счастливым, если сумма первых трех цифр совпадает с суммой последних трех цифр номера."
      ],
      "metadata": {
        "id": "unDfLSY-07-o"
      }
    },
    {
      "cell_type": "markdown",
      "source": [
        "1."
      ],
      "metadata": {
        "id": "W48Ag0V6FwoV"
      }
    },
    {
      "cell_type": "code",
      "source": [
        "number = 123456\n",
        "a = number // 100000\n",
        "b = (number - a*100000) // 10000\n",
        "c = (number - a*100000 - b*10000) // 1000\n",
        "d = (number - a*100000 - b*10000 - c*1000) // 100\n",
        "e = (number - a*100000 - b*10000 - c*1000 - d*100) // 10\n",
        "f = number % 10\n",
        "\n",
        "if a + b +c == d + e + f:\n",
        "  print('Счастливый билет')\n",
        "else:\n",
        "  print('Не счастливый билет')"
      ],
      "metadata": {
        "colab": {
          "base_uri": "https://localhost:8080/"
        },
        "id": "SDzW_BC40-cW",
        "outputId": "a704d615-9ed2-406e-c156-7b9c5cfd7421"
      },
      "execution_count": null,
      "outputs": [
        {
          "output_type": "stream",
          "name": "stdout",
          "text": [
            "Не счастливый билет\n"
          ]
        }
      ]
    },
    {
      "cell_type": "markdown",
      "source": [
        "2."
      ],
      "metadata": {
        "id": "6obduwBUFy50"
      }
    },
    {
      "cell_type": "code",
      "source": [
        "number = 123321\n",
        "a = number // 100000\n",
        "b = (number - a*100000) // 10000\n",
        "c = (number - a*100000 - b*10000) // 1000\n",
        "d = (number - a*100000 - b*10000 - c*1000) // 100\n",
        "e = (number - a*100000 - b*10000 - c*1000 - d*100) // 10\n",
        "f = number % 10\n",
        "\n",
        "if a + b +c == d + e + f:\n",
        "  print('Счастливый билет')\n",
        "else:\n",
        "  print('Не счастливый билет')"
      ],
      "metadata": {
        "colab": {
          "base_uri": "https://localhost:8080/"
        },
        "id": "tpFJqHwXF0N8",
        "outputId": "f6730cf3-b8df-4f94-908c-794353a11f10"
      },
      "execution_count": null,
      "outputs": [
        {
          "output_type": "stream",
          "name": "stdout",
          "text": [
            "Счастливый билет\n"
          ]
        }
      ]
    },
    {
      "cell_type": "markdown",
      "source": [
        "# Задание 6 (необязательное)\n",
        "Напишите программу, которая сможет вычислять площади трех фигур (круг, треугольник и прямоугольник). Тип фигуры запрашиваем через пользовательский ввод, после чего делаем запрос характеристик фигуры:\n",
        "\n",
        "если пользователь выбрал круг, запрашиваем его радиус,\n",
        "если треугольник – длины трех его сторон;\n",
        "если прямоугольник – длины двух его сторон."
      ],
      "metadata": {
        "id": "ImK6Kco1F6fX"
      }
    },
    {
      "cell_type": "markdown",
      "source": [
        "1."
      ],
      "metadata": {
        "id": "foB5MMJCGILA"
      }
    },
    {
      "cell_type": "code",
      "source": [
        "import math\n",
        "figura = str(input('Введите тип фигуры: '))\n",
        "if figura == 'Круг':\n",
        "  radius = int(input('Введите радиус круга: '))\n",
        "  s = math.pi*(radius**2)\n",
        "  print('Площадь круга: ', s)\n",
        "elif figura == 'Треугольник':\n",
        "  a = int(input('Введите длину стороны a:'))\n",
        "  b = int(input('Введите длину стороны b: '))\n",
        "  c = int(input('Введите длину стороны c: '))\n",
        "  p = (a + b + c) / 2\n",
        "  s = math.sqrt(p*(p - a)*(p - b)*(p - c))\n",
        "  print('Площадь треугольника: ', s)\n",
        "elif figura == 'Прямоугольник':\n",
        "  a = int(input('Введите длину 1 стороны: '))\n",
        "  b = int(input('Введите длину стороны 2: '))\n",
        "  s = a*b\n",
        "  print('Площадь прямоугольника: ', s)\n",
        "else:\n",
        "  print('Что-то пошло не так!')"
      ],
      "metadata": {
        "colab": {
          "base_uri": "https://localhost:8080/"
        },
        "id": "-CNTdZVuGJvC",
        "outputId": "84638c62-46f4-4e72-bd95-b7b16b19b8dc"
      },
      "execution_count": null,
      "outputs": [
        {
          "output_type": "stream",
          "name": "stdout",
          "text": [
            "Введите тип фигуры: Треугольник\n",
            "Введите длину стороны a:2\n",
            "Введите длину стороны b: 2\n",
            "Введите длину стороны c: 3\n",
            "Площадь треугольника:  1.984313483298443\n"
          ]
        }
      ]
    }
  ]
}